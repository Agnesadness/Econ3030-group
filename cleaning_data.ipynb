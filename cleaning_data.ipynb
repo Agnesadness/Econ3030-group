{
 "cells": [
  {
   "cell_type": "markdown",
   "id": "bf83e044",
   "metadata": {},
   "source": [
    "Importing liblaries "
   ]
  },
  {
   "cell_type": "code",
   "execution_count": 1,
   "id": "1e97a334",
   "metadata": {},
   "outputs": [],
   "source": [
    "import pandas as pd"
   ]
  },
  {
   "cell_type": "code",
   "execution_count": 2,
   "id": "bf57cb43",
   "metadata": {},
   "outputs": [],
   "source": [
    "import numpy as np "
   ]
  },
  {
   "cell_type": "markdown",
   "id": "579f4cbf",
   "metadata": {},
   "source": [
    "Importing data "
   ]
  },
  {
   "cell_type": "code",
   "execution_count": 3,
   "id": "a0b104e1",
   "metadata": {},
   "outputs": [],
   "source": [
    "df = pd.read_csv('https://raw.githubusercontent.com/jivizcaino/PWT_10.0/main/pwt100.csv', encoding=\"latin-1\")"
   ]
  },
  {
   "cell_type": "code",
   "execution_count": 4,
   "id": "eb64beeb",
   "metadata": {},
   "outputs": [
    {
     "name": "stdout",
     "output_type": "stream",
     "text": [
      "      countrycode   country   currency_unit  year        rgdpe        rgdpo  \\\n",
      "0             ABW     Aruba  Aruban Guilder  1950          NaN          NaN   \n",
      "1             ABW     Aruba  Aruban Guilder  1951          NaN          NaN   \n",
      "2             ABW     Aruba  Aruban Guilder  1952          NaN          NaN   \n",
      "3             ABW     Aruba  Aruban Guilder  1953          NaN          NaN   \n",
      "4             ABW     Aruba  Aruban Guilder  1954          NaN          NaN   \n",
      "...           ...       ...             ...   ...          ...          ...   \n",
      "12805         ZWE  Zimbabwe       US Dollar  2015  40141.61719  39798.64453   \n",
      "12806         ZWE  Zimbabwe       US Dollar  2016  41875.20313  40963.19141   \n",
      "12807         ZWE  Zimbabwe       US Dollar  2017  44672.17578  44316.74219   \n",
      "12808         ZWE  Zimbabwe       US Dollar  2018  44325.10938  43420.89844   \n",
      "12809         ZWE  Zimbabwe       US Dollar  2019  42296.06250  40826.57031   \n",
      "\n",
      "             pop       emp  avh        hc  ...     csh_x     csh_m     csh_r  \\\n",
      "0            NaN       NaN  NaN       NaN  ...       NaN       NaN       NaN   \n",
      "1            NaN       NaN  NaN       NaN  ...       NaN       NaN       NaN   \n",
      "2            NaN       NaN  NaN       NaN  ...       NaN       NaN       NaN   \n",
      "3            NaN       NaN  NaN       NaN  ...       NaN       NaN       NaN   \n",
      "4            NaN       NaN  NaN       NaN  ...       NaN       NaN       NaN   \n",
      "...          ...       ...  ...       ...  ...       ...       ...       ...   \n",
      "12805  13.814629  6.393752  NaN  2.584653  ...  0.140172 -0.287693 -0.051930   \n",
      "12806  14.030331  6.504374  NaN  2.616257  ...  0.131920 -0.251232 -0.016258   \n",
      "12807  14.236595  6.611773  NaN  2.648248  ...  0.126722 -0.202827 -0.039897   \n",
      "12808  14.438802  6.714952  NaN  2.680630  ...  0.144485 -0.263658 -0.020791   \n",
      "12809  14.645468  6.831017  NaN  2.713408  ...  0.213562 -0.270959 -0.089798   \n",
      "\n",
      "           pl_c      pl_i      pl_g      pl_x      pl_m      pl_n      pl_k  \n",
      "0           NaN       NaN       NaN       NaN       NaN       NaN       NaN  \n",
      "1           NaN       NaN       NaN       NaN       NaN       NaN       NaN  \n",
      "2           NaN       NaN       NaN       NaN       NaN       NaN       NaN  \n",
      "3           NaN       NaN       NaN       NaN       NaN       NaN       NaN  \n",
      "4           NaN       NaN       NaN       NaN       NaN       NaN       NaN  \n",
      "...         ...       ...       ...       ...       ...       ...       ...  \n",
      "12805  0.479228  0.651287  0.541446  0.616689  0.533235  0.422764  1.533909  \n",
      "12806  0.470640  0.651027  0.539631  0.619789  0.519718  0.416510  1.491724  \n",
      "12807  0.473560  0.639560  0.519956  0.619739  0.552042  0.415592  1.514525  \n",
      "12808  0.543757  0.655473  0.529867  0.641361  0.561526  0.425143  1.590120  \n",
      "12809  0.494755  0.652439  0.500927  0.487763  0.430082  0.420675  1.384068  \n",
      "\n",
      "[12810 rows x 52 columns]\n"
     ]
    }
   ],
   "source": [
    "print(df)"
   ]
  },
  {
   "cell_type": "markdown",
   "id": "f6c036c2",
   "metadata": {},
   "source": [
    "Variables we care about: \n",
    "- cgdpo (oupput-side real GDP at current PPP) \n",
    "- emp (Number of persons engaged) \n",
    "- avh( Average annual hours worked by persons engaged) \n",
    "- hc (humand capital index based on yeatd of schooling and returns to education) \n",
    "- labsh (country-specific measure for 1-alpha"
   ]
  },
  {
   "cell_type": "markdown",
   "id": "9ff2cad1",
   "metadata": {},
   "source": [
    "Cleanining the data "
   ]
  },
  {
   "cell_type": "code",
   "execution_count": 5,
   "id": "c574e174",
   "metadata": {},
   "outputs": [],
   "source": [
    "df_subset =  df[['country', 'year', 'cgdpo', 'emp', 'avh', 'hc','labsh']]"
   ]
  },
  {
   "cell_type": "code",
   "execution_count": 6,
   "id": "21c2b558",
   "metadata": {},
   "outputs": [
    {
     "data": {
      "text/html": [
       "<div>\n",
       "<style scoped>\n",
       "    .dataframe tbody tr th:only-of-type {\n",
       "        vertical-align: middle;\n",
       "    }\n",
       "\n",
       "    .dataframe tbody tr th {\n",
       "        vertical-align: top;\n",
       "    }\n",
       "\n",
       "    .dataframe thead th {\n",
       "        text-align: right;\n",
       "    }\n",
       "</style>\n",
       "<table border=\"1\" class=\"dataframe\">\n",
       "  <thead>\n",
       "    <tr style=\"text-align: right;\">\n",
       "      <th></th>\n",
       "      <th>country</th>\n",
       "      <th>year</th>\n",
       "      <th>cgdpo</th>\n",
       "      <th>emp</th>\n",
       "      <th>avh</th>\n",
       "      <th>hc</th>\n",
       "      <th>labsh</th>\n",
       "    </tr>\n",
       "  </thead>\n",
       "  <tbody>\n",
       "    <tr>\n",
       "      <th>0</th>\n",
       "      <td>Aruba</td>\n",
       "      <td>1950</td>\n",
       "      <td>NaN</td>\n",
       "      <td>NaN</td>\n",
       "      <td>NaN</td>\n",
       "      <td>NaN</td>\n",
       "      <td>NaN</td>\n",
       "    </tr>\n",
       "    <tr>\n",
       "      <th>1</th>\n",
       "      <td>Aruba</td>\n",
       "      <td>1951</td>\n",
       "      <td>NaN</td>\n",
       "      <td>NaN</td>\n",
       "      <td>NaN</td>\n",
       "      <td>NaN</td>\n",
       "      <td>NaN</td>\n",
       "    </tr>\n",
       "    <tr>\n",
       "      <th>2</th>\n",
       "      <td>Aruba</td>\n",
       "      <td>1952</td>\n",
       "      <td>NaN</td>\n",
       "      <td>NaN</td>\n",
       "      <td>NaN</td>\n",
       "      <td>NaN</td>\n",
       "      <td>NaN</td>\n",
       "    </tr>\n",
       "    <tr>\n",
       "      <th>3</th>\n",
       "      <td>Aruba</td>\n",
       "      <td>1953</td>\n",
       "      <td>NaN</td>\n",
       "      <td>NaN</td>\n",
       "      <td>NaN</td>\n",
       "      <td>NaN</td>\n",
       "      <td>NaN</td>\n",
       "    </tr>\n",
       "    <tr>\n",
       "      <th>4</th>\n",
       "      <td>Aruba</td>\n",
       "      <td>1954</td>\n",
       "      <td>NaN</td>\n",
       "      <td>NaN</td>\n",
       "      <td>NaN</td>\n",
       "      <td>NaN</td>\n",
       "      <td>NaN</td>\n",
       "    </tr>\n",
       "    <tr>\n",
       "      <th>...</th>\n",
       "      <td>...</td>\n",
       "      <td>...</td>\n",
       "      <td>...</td>\n",
       "      <td>...</td>\n",
       "      <td>...</td>\n",
       "      <td>...</td>\n",
       "      <td>...</td>\n",
       "    </tr>\n",
       "    <tr>\n",
       "      <th>12805</th>\n",
       "      <td>Zimbabwe</td>\n",
       "      <td>2015</td>\n",
       "      <td>39455.90234</td>\n",
       "      <td>6.393752</td>\n",
       "      <td>NaN</td>\n",
       "      <td>2.584653</td>\n",
       "      <td>0.533381</td>\n",
       "    </tr>\n",
       "    <tr>\n",
       "      <th>12806</th>\n",
       "      <td>Zimbabwe</td>\n",
       "      <td>2016</td>\n",
       "      <td>40864.16406</td>\n",
       "      <td>6.504374</td>\n",
       "      <td>NaN</td>\n",
       "      <td>2.616257</td>\n",
       "      <td>0.533381</td>\n",
       "    </tr>\n",
       "    <tr>\n",
       "      <th>12807</th>\n",
       "      <td>Zimbabwe</td>\n",
       "      <td>2017</td>\n",
       "      <td>44316.74219</td>\n",
       "      <td>6.611773</td>\n",
       "      <td>NaN</td>\n",
       "      <td>2.648248</td>\n",
       "      <td>0.533381</td>\n",
       "    </tr>\n",
       "    <tr>\n",
       "      <th>12808</th>\n",
       "      <td>Zimbabwe</td>\n",
       "      <td>2018</td>\n",
       "      <td>43567.51172</td>\n",
       "      <td>6.714952</td>\n",
       "      <td>NaN</td>\n",
       "      <td>2.680630</td>\n",
       "      <td>0.533381</td>\n",
       "    </tr>\n",
       "    <tr>\n",
       "      <th>12809</th>\n",
       "      <td>Zimbabwe</td>\n",
       "      <td>2019</td>\n",
       "      <td>41081.72266</td>\n",
       "      <td>6.831017</td>\n",
       "      <td>NaN</td>\n",
       "      <td>2.713408</td>\n",
       "      <td>0.533381</td>\n",
       "    </tr>\n",
       "  </tbody>\n",
       "</table>\n",
       "<p>12810 rows × 7 columns</p>\n",
       "</div>"
      ],
      "text/plain": [
       "        country  year        cgdpo       emp  avh        hc     labsh\n",
       "0         Aruba  1950          NaN       NaN  NaN       NaN       NaN\n",
       "1         Aruba  1951          NaN       NaN  NaN       NaN       NaN\n",
       "2         Aruba  1952          NaN       NaN  NaN       NaN       NaN\n",
       "3         Aruba  1953          NaN       NaN  NaN       NaN       NaN\n",
       "4         Aruba  1954          NaN       NaN  NaN       NaN       NaN\n",
       "...         ...   ...          ...       ...  ...       ...       ...\n",
       "12805  Zimbabwe  2015  39455.90234  6.393752  NaN  2.584653  0.533381\n",
       "12806  Zimbabwe  2016  40864.16406  6.504374  NaN  2.616257  0.533381\n",
       "12807  Zimbabwe  2017  44316.74219  6.611773  NaN  2.648248  0.533381\n",
       "12808  Zimbabwe  2018  43567.51172  6.714952  NaN  2.680630  0.533381\n",
       "12809  Zimbabwe  2019  41081.72266  6.831017  NaN  2.713408  0.533381\n",
       "\n",
       "[12810 rows x 7 columns]"
      ]
     },
     "execution_count": 6,
     "metadata": {},
     "output_type": "execute_result"
    }
   ],
   "source": [
    "df_subset"
   ]
  },
  {
   "cell_type": "code",
   "execution_count": 7,
   "id": "bb014db3",
   "metadata": {},
   "outputs": [
    {
     "name": "stdout",
     "output_type": "stream",
     "text": [
      "            country  year         cgdpo        emp          avh        hc  \\\n",
      "350       Argentina  1950   50511.76563   6.608833  2034.000000  1.816503   \n",
      "351       Argentina  1951   51700.11328   6.713252  2037.866753  1.830769   \n",
      "352       Argentina  1952   47280.32813   6.819321  2041.740856  1.845147   \n",
      "353       Argentina  1953   50378.66797   6.927065  2045.622325  1.859638   \n",
      "354       Argentina  1954   52633.07422   7.036511  2049.511172  1.874243   \n",
      "...             ...   ...           ...        ...          ...       ...   \n",
      "12664  South Africa  2014  699348.06250  16.992683  2209.091467  2.675951   \n",
      "12666  South Africa  2016  710312.50000  17.984968  2218.455068  2.762902   \n",
      "12667  South Africa  2017  726021.00000  18.302843  2197.033263  2.809246   \n",
      "12668  South Africa  2018  733319.37500  18.686357  2191.363362  2.857641   \n",
      "12669  South Africa  2019  735067.06250  18.642710  2191.363362  2.908202   \n",
      "\n",
      "          labsh  \n",
      "350    0.441024  \n",
      "351    0.441024  \n",
      "352    0.441024  \n",
      "353    0.441024  \n",
      "354    0.441024  \n",
      "...         ...  \n",
      "12664  0.552341  \n",
      "12666  0.568343  \n",
      "12667  0.570414  \n",
      "12668  0.570888  \n",
      "12669  0.570888  \n",
      "\n",
      "[3265 rows x 7 columns]\n"
     ]
    }
   ],
   "source": [
    "df_subset = df_subset.dropna()\n",
    "print(df_subset)"
   ]
  },
  {
   "cell_type": "markdown",
   "id": "e5b93497",
   "metadata": {},
   "source": [
    "finding most frequent year "
   ]
  },
  {
   "cell_type": "code",
   "execution_count": 8,
   "id": "b267f612",
   "metadata": {},
   "outputs": [
    {
     "data": {
      "text/plain": [
       "0    2001\n",
       "1    2002\n",
       "Name: year, dtype: int64"
      ]
     },
     "execution_count": 8,
     "metadata": {},
     "output_type": "execute_result"
    }
   ],
   "source": [
    "df_subset['year'].mode()"
   ]
  },
  {
   "cell_type": "markdown",
   "id": "db664c66",
   "metadata": {},
   "source": [
    "2001 and 2002 are the most frequent. The year that should be used is 2002 as it's the latest out of the 2 options\n"
   ]
  },
  {
   "cell_type": "markdown",
   "id": "7646a5ef",
   "metadata": {},
   "source": [
    "Data subset for year 2002 only "
   ]
  },
  {
   "cell_type": "code",
   "execution_count": 16,
   "id": "e6b6ec03",
   "metadata": {},
   "outputs": [],
   "source": [
    "df_2002 = df_subset[df_subset['year'] == 2002]"
   ]
  },
  {
   "cell_type": "code",
   "execution_count": 19,
   "id": "6bfc9e37",
   "metadata": {},
   "outputs": [
    {
     "name": "stdout",
     "output_type": "stream",
     "text": [
      "                                  country  year         cgdpo         emp  \\\n",
      "402                             Argentina  2002  4.160457e+05   13.412664   \n",
      "612                             Australia  2002  7.934767e+05    9.185279   \n",
      "682                               Austria  2002  3.107763e+05    3.780694   \n",
      "892                               Belgium  2002  3.767745e+05    4.187661   \n",
      "1172                             Bulgaria  2002  8.057009e+04    2.962754   \n",
      "...                                   ...   ...           ...         ...   \n",
      "11812                              Taiwan  2002  7.859262e+05    9.453662   \n",
      "12092                             Uruguay  2002  3.437899e+04    1.338126   \n",
      "12162                       United States  2002  1.454026e+07  138.152084   \n",
      "12372  Venezuela (Bolivarian Republic of)  2002  1.977061e+05    9.786200   \n",
      "12652                        South Africa  2002  4.729839e+05   14.032675   \n",
      "\n",
      "               avh        hc     labsh  \n",
      "402    1710.036560  2.709060  0.317553  \n",
      "612    1808.121110  3.516423  0.600817  \n",
      "682    1782.847940  3.149517  0.584005  \n",
      "892    1593.645551  3.011329  0.631530  \n",
      "1172   1651.259419  2.937178  0.453595  \n",
      "...            ...       ...       ...  \n",
      "11812  2111.897143  2.815393  0.742257  \n",
      "12092  1635.878761  2.538953  0.511497  \n",
      "12162  1806.690813  3.598119  0.629617  \n",
      "12372  1829.020296  2.228095  0.412870  \n",
      "12652  2382.765847  2.163700  0.529168  \n",
      "\n",
      "[64 rows x 7 columns]\n"
     ]
    }
   ],
   "source": [
    "print(df_2002)"
   ]
  },
  {
   "cell_type": "code",
   "execution_count": 24,
   "id": "1dbc7f0f",
   "metadata": {},
   "outputs": [
    {
     "name": "stdout",
     "output_type": "stream",
     "text": [
      "                                  country  year         cgdpo         emp  \\\n",
      "402                             Argentina  2002  4.160457e+05   13.412664   \n",
      "612                             Australia  2002  7.934767e+05    9.185279   \n",
      "682                               Austria  2002  3.107763e+05    3.780694   \n",
      "892                               Belgium  2002  3.767745e+05    4.187661   \n",
      "1172                             Bulgaria  2002  8.057009e+04    2.962754   \n",
      "...                                   ...   ...           ...         ...   \n",
      "11812                              Taiwan  2002  7.859262e+05    9.453662   \n",
      "12092                             Uruguay  2002  3.437899e+04    1.338126   \n",
      "12162                       United States  2002  1.454026e+07  138.152084   \n",
      "12372  Venezuela (Bolivarian Republic of)  2002  1.977061e+05    9.786200   \n",
      "12652                        South Africa  2002  4.729839e+05   14.032675   \n",
      "\n",
      "               avh        hc     labsh  Income_Per_Worker  \\\n",
      "402    1710.036560  2.709060  0.317553       31018.867213   \n",
      "612    1808.121110  3.516423  0.600817       86385.693537   \n",
      "682    1782.847940  3.149517  0.584005       82200.868806   \n",
      "892    1593.645551  3.011329  0.631530       89972.554806   \n",
      "1172   1651.259419  2.937178  0.453595       27194.319590   \n",
      "...            ...       ...       ...                ...   \n",
      "11812  2111.897143  2.815393  0.742257       83134.577292   \n",
      "12092  1635.878761  2.538953  0.511497       25691.899635   \n",
      "12162  1806.690813  3.598119  0.629617      105248.176769   \n",
      "12372  1829.020296  2.228095  0.412870       20202.543754   \n",
      "12652  2382.765847  2.163700  0.529168       33705.895852   \n",
      "\n",
      "       Income_Per_Hour_Worked  Income_Per_Unit_of_HCap  \\\n",
      "402                 18.139301             1.535757e+05   \n",
      "612                 47.776497             2.256488e+05   \n",
      "682                 46.106495             9.867428e+04   \n",
      "892                 56.457068             1.251190e+05   \n",
      "1172                16.468835             2.743112e+04   \n",
      "...                       ...                      ...   \n",
      "11812               39.364880             2.791533e+05   \n",
      "12092               15.705259             1.354061e+04   \n",
      "12162               58.254670             4.041072e+06   \n",
      "12372               11.045555             8.873327e+04   \n",
      "12652               14.145702             2.185996e+05   \n",
      "\n",
      "       Income_Per_Hour_Of_HCap  \n",
      "402                   6.695791  \n",
      "612                  13.586673  \n",
      "682                  14.639228  \n",
      "892                  18.748220  \n",
      "1172                  5.607027  \n",
      "...                        ...  \n",
      "11812                13.982020  \n",
      "12092                 6.185722  \n",
      "12162                16.190314  \n",
      "12372                 4.957399  \n",
      "12652                 6.537738  \n",
      "\n",
      "[64 rows x 11 columns]\n"
     ]
    },
    {
     "name": "stderr",
     "output_type": "stream",
     "text": [
      "C:\\Users\\agnes\\AppData\\Local\\Temp\\ipykernel_6932\\1731027540.py:1: SettingWithCopyWarning: \n",
      "A value is trying to be set on a copy of a slice from a DataFrame.\n",
      "Try using .loc[row_indexer,col_indexer] = value instead\n",
      "\n",
      "See the caveats in the documentation: https://pandas.pydata.org/pandas-docs/stable/user_guide/indexing.html#returning-a-view-versus-a-copy\n",
      "  df_2002[\"Income_Per_Worker\"] = df_2002['cgdpo'] / df_2002['emp']\n",
      "C:\\Users\\agnes\\AppData\\Local\\Temp\\ipykernel_6932\\1731027540.py:3: SettingWithCopyWarning: \n",
      "A value is trying to be set on a copy of a slice from a DataFrame.\n",
      "Try using .loc[row_indexer,col_indexer] = value instead\n",
      "\n",
      "See the caveats in the documentation: https://pandas.pydata.org/pandas-docs/stable/user_guide/indexing.html#returning-a-view-versus-a-copy\n",
      "  df_2002[\"Income_Per_Hour_Worked\"] = df_2002['cgdpo'] / Per_Hour_Worked\n",
      "C:\\Users\\agnes\\AppData\\Local\\Temp\\ipykernel_6932\\1731027540.py:4: SettingWithCopyWarning: \n",
      "A value is trying to be set on a copy of a slice from a DataFrame.\n",
      "Try using .loc[row_indexer,col_indexer] = value instead\n",
      "\n",
      "See the caveats in the documentation: https://pandas.pydata.org/pandas-docs/stable/user_guide/indexing.html#returning-a-view-versus-a-copy\n",
      "  df_2002[\"Income_Per_Unit_of_HCap\"] = df_2002['cgdpo'] / df_2002['hc']\n",
      "C:\\Users\\agnes\\AppData\\Local\\Temp\\ipykernel_6932\\1731027540.py:6: SettingWithCopyWarning: \n",
      "A value is trying to be set on a copy of a slice from a DataFrame.\n",
      "Try using .loc[row_indexer,col_indexer] = value instead\n",
      "\n",
      "See the caveats in the documentation: https://pandas.pydata.org/pandas-docs/stable/user_guide/indexing.html#returning-a-view-versus-a-copy\n",
      "  df_2002[\"Income_Per_Hour_Of_HCap\"] = df_2002['cgdpo'] / Per_Hour_Worked_HCap\n"
     ]
    }
   ],
   "source": [
    "df_2002[\"Income_Per_Worker\"] = df_2002['cgdpo'] / df_2002['emp']\n",
    "Per_Hour_Worked = df_2002['emp']*df_2002['avh']\n",
    "df_2002[\"Income_Per_Hour_Worked\"] = df_2002['cgdpo'] / Per_Hour_Worked\n",
    "df_2002[\"Income_Per_Unit_of_HCap\"] = df_2002['cgdpo'] / df_2002['hc']\n",
    "Per_Hour_Worked_HCap = Per_Hour_Worked*df_2002['hc']\n",
    "df_2002[\"Income_Per_Hour_Of_HCap\"] = df_2002['cgdpo'] / Per_Hour_Worked_HCap\n",
    "print(df_2002)"
   ]
  },
  {
   "cell_type": "code",
   "execution_count": 25,
   "id": "ab7e10aa",
   "metadata": {},
   "outputs": [
    {
     "name": "stdout",
     "output_type": "stream",
     "text": [
      "10.707010273250523\n"
     ]
    }
   ],
   "source": [
    "Income_perCap_25 = np.percentile(df_subset[\"Income_Per_Hour_Worked\"], 25)\n",
    "print(Income_perCap_25)"
   ]
  },
  {
   "cell_type": "markdown",
   "id": "c4d234e5",
   "metadata": {},
   "source": [
    "scatterplots for k, h, avh, alpha and A (using cftp) against log per capita,per worker, per hour workerd, and per unit of human capital. Label axis, Label observations using country code "
   ]
  }
 ],
 "metadata": {
  "kernelspec": {
   "display_name": "Python 3.9.12 ('base')",
   "language": "python",
   "name": "python3"
  },
  "language_info": {
   "codemirror_mode": {
    "name": "ipython",
    "version": 3
   },
   "file_extension": ".py",
   "mimetype": "text/x-python",
   "name": "python",
   "nbconvert_exporter": "python",
   "pygments_lexer": "ipython3",
   "version": "3.9.12"
  },
  "vscode": {
   "interpreter": {
    "hash": "58378196f0018a3d49174180ba04533a98e4b13219f3426da73b26d2b0cf8353"
   }
  }
 },
 "nbformat": 4,
 "nbformat_minor": 5
}
